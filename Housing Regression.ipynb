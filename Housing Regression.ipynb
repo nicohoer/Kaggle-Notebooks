{
 "cells": [
  {
   "cell_type": "markdown",
   "id": "characteristic-component",
   "metadata": {},
   "source": [
    "# Predicting Housing Prices"
   ]
  },
  {
   "cell_type": "markdown",
   "id": "dietary-yellow",
   "metadata": {},
   "source": [
    "## Getting the data:"
   ]
  },
  {
   "cell_type": "code",
   "execution_count": 34,
   "id": "instrumental-hudson",
   "metadata": {},
   "outputs": [],
   "source": [
    "import pandas as pd\n",
    "housing = pd.read_csv(\"C:/Users/Nicoo/Documents/GitHub/Kaggle-Notebooks/data/housing_train.csv\")"
   ]
  },
  {
   "cell_type": "markdown",
   "id": "electronic-sheet",
   "metadata": {},
   "source": [
    "Remove rows with missing target  and separate target from features:"
   ]
  },
  {
   "cell_type": "code",
   "execution_count": 35,
   "id": "resident-accordance",
   "metadata": {},
   "outputs": [],
   "source": [
    "housing = housing.dropna(axis=0, subset=['SalePrice'])\n",
    "y = housing.SalePrice\n",
    "housing = housing.drop(['SalePrice'], axis=1)"
   ]
  },
  {
   "cell_type": "markdown",
   "id": "general-soundtrack",
   "metadata": {},
   "source": [
    "Select all columns with non numerical datatype as categorical columns:"
   ]
  },
  {
   "cell_type": "code",
   "execution_count": 41,
   "id": "angry-fusion",
   "metadata": {},
   "outputs": [
    {
     "data": {
      "text/plain": [
       "43"
      ]
     },
     "execution_count": 41,
     "metadata": {},
     "output_type": "execute_result"
    }
   ],
   "source": [
    "categorical = [column for column in housing.columns if housing[column].dtype == \"object\"]\n",
    "len(categorical)"
   ]
  },
  {
   "cell_type": "markdown",
   "id": "invalid-silence",
   "metadata": {},
   "source": [
    "Selecting numerical columns as well:"
   ]
  },
  {
   "cell_type": "code",
   "execution_count": 42,
   "id": "hungry-client",
   "metadata": {},
   "outputs": [
    {
     "data": {
      "text/plain": [
       "37"
      ]
     },
     "execution_count": 42,
     "metadata": {},
     "output_type": "execute_result"
    }
   ],
   "source": [
    "numerical = [column for column in housing.columns if housing[column].dtype in ['int64', 'float64']]\n",
    "len(numerical)"
   ]
  }
 ],
 "metadata": {
  "kernelspec": {
   "display_name": "Python 3",
   "language": "python",
   "name": "python3"
  },
  "language_info": {
   "codemirror_mode": {
    "name": "ipython",
    "version": 3
   },
   "file_extension": ".py",
   "mimetype": "text/x-python",
   "name": "python",
   "nbconvert_exporter": "python",
   "pygments_lexer": "ipython3",
   "version": "3.8.3"
  }
 },
 "nbformat": 4,
 "nbformat_minor": 5
}
