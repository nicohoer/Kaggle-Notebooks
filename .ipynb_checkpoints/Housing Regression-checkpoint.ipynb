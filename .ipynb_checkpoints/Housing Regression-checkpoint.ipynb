{
 "cells": [
  {
   "cell_type": "markdown",
   "id": "beneficial-poland",
   "metadata": {},
   "source": [
    "# Predicting Housing Prices"
   ]
  },
  {
   "cell_type": "markdown",
   "id": "peaceful-auckland",
   "metadata": {},
   "source": [
    "## Getting the data:"
   ]
  },
  {
   "cell_type": "code",
   "execution_count": 134,
   "id": "excellent-moderator",
   "metadata": {},
   "outputs": [],
   "source": [
    "import pandas as pd\n",
    "housing = pd.read_csv(\"C:/Users/Nicoo/Documents/GitHub/Kaggle-Notebooks/data/housing_train.csv\", index_col='Id')"
   ]
  },
  {
   "cell_type": "markdown",
   "id": "endless-animal",
   "metadata": {},
   "source": [
    "Remove rows with missing target  and separate target from features:"
   ]
  },
  {
   "cell_type": "code",
   "execution_count": 135,
   "id": "parliamentary-bailey",
   "metadata": {},
   "outputs": [],
   "source": [
    "housing = housing.dropna(axis=0, subset=['SalePrice'])\n",
    "y = housing.SalePrice\n",
    "housing = housing.drop(['SalePrice'], axis=1)"
   ]
  },
  {
   "cell_type": "markdown",
   "id": "center-firewall",
   "metadata": {},
   "source": [
    "**Categorical Features:**"
   ]
  },
  {
   "cell_type": "markdown",
   "id": "chubby-promise",
   "metadata": {},
   "source": [
    "Select all columns with non numerical datatype as categorical columns:"
   ]
  },
  {
   "cell_type": "code",
   "execution_count": 136,
   "id": "bronze-possession",
   "metadata": {},
   "outputs": [
    {
     "data": {
      "text/plain": [
       "43"
      ]
     },
     "execution_count": 136,
     "metadata": {},
     "output_type": "execute_result"
    }
   ],
   "source": [
    "categorical = [column for column in housing.columns if housing[column].dtype == \"object\"]\n",
    "len(categorical)"
   ]
  },
  {
   "cell_type": "markdown",
   "id": "breeding-tanzania",
   "metadata": {},
   "source": [
    "A good way to handle categorical data is One-Hot-Encoding, which creates a new feature for all extra categories.<br>Let's see how many new features we will create with OHE:"
   ]
  },
  {
   "cell_type": "code",
   "execution_count": 137,
   "id": "abandoned-gather",
   "metadata": {},
   "outputs": [
    {
     "data": {
      "text/plain": [
       "252"
      ]
     },
     "execution_count": 137,
     "metadata": {},
     "output_type": "execute_result"
    }
   ],
   "source": [
    "sum = 0\n",
    "for column in categorical:\n",
    "    sum += housing[column].nunique()\n",
    "sum"
   ]
  },
  {
   "cell_type": "markdown",
   "id": "german-transcription",
   "metadata": {},
   "source": [
    "There's a total of 252 categories in the categorical columns, meaning we'll create 252 - 43 = **209** new columns."
   ]
  },
  {
   "cell_type": "markdown",
   "id": "skilled-limitation",
   "metadata": {},
   "source": [
    "**Numerical Features:**"
   ]
  },
  {
   "cell_type": "markdown",
   "id": "internal-conditions",
   "metadata": {},
   "source": [
    "Selecting numerical columns as well:"
   ]
  },
  {
   "cell_type": "code",
   "execution_count": 138,
   "id": "guided-castle",
   "metadata": {},
   "outputs": [],
   "source": [
    "numerical = [column for column in housing.columns if housing[column].dtype in ['int64', 'float64']]"
   ]
  },
  {
   "cell_type": "markdown",
   "id": "stainless-summary",
   "metadata": {},
   "source": [
    "**All columns:**"
   ]
  },
  {
   "cell_type": "code",
   "execution_count": 139,
   "id": "generous-expense",
   "metadata": {},
   "outputs": [],
   "source": [
    "selected = categorical + numerical"
   ]
  },
  {
   "cell_type": "markdown",
   "id": "chicken-scholarship",
   "metadata": {},
   "source": [
    "## Data Preprocessing:"
   ]
  },
  {
   "cell_type": "markdown",
   "id": "aboriginal-belgium",
   "metadata": {},
   "source": [
    "An easy way to combine many preprocessing steps is to use a Pipeline. the steps in this Pipelin will first be to impute some of the missing data and then one-hot-encode the categorical features.<br>\n",
    "Numerical features will be imputed with the Median Values, while categorical features will be imputed with the most frequent values."
   ]
  },
  {
   "cell_type": "markdown",
   "id": "first-calgary",
   "metadata": {},
   "source": [
    "**Setting up Pipeline with One Hot Encoder:**"
   ]
  },
  {
   "cell_type": "code",
   "execution_count": 140,
   "id": "careful-reset",
   "metadata": {},
   "outputs": [],
   "source": [
    "from sklearn.pipeline import Pipeline\n",
    "from sklearn.preprocessing import OneHotEncoder\n",
    "from sklearn.impute import SimpleImputer\n",
    "from sklearn.compose import ColumnTransformer\n",
    "\n",
    "numerical_transformer = SimpleImputer(strategy='median')\n",
    "categorical_transformer = Pipeline(steps=[('imputer', SimpleImputer(strategy='most_frequent')),('onehot', OneHotEncoder(handle_unknown='ignore', sparse=False))])\n",
    "\n",
    "preprocessor = ColumnTransformer(transformers=[('num', numerical_transformer, numerical),('cat', categorical_transformer, categorical)])"
   ]
  },
  {
   "cell_type": "markdown",
   "id": "harmful-lancaster",
   "metadata": {},
   "source": [
    "**Train-Test-Split:**"
   ]
  },
  {
   "cell_type": "code",
   "execution_count": 141,
   "id": "announced-matthew",
   "metadata": {
    "scrolled": true
   },
   "outputs": [],
   "source": [
    "from sklearn.model_selection import train_test_split\n",
    "\n",
    "X_train, X_test, y_train, y_test = train_test_split(housing, y, test_size=0.27, random_state=42)\n",
    "X_train = X_train[selected]\n",
    "X_test = X_test[selected]"
   ]
  },
  {
   "cell_type": "markdown",
   "id": "innocent-lawsuit",
   "metadata": {},
   "source": [
    "## Setting up Full Pipeline with XGBoost"
   ]
  },
  {
   "cell_type": "code",
   "execution_count": 142,
   "id": "efficient-flash",
   "metadata": {},
   "outputs": [],
   "source": [
    "#Setting up model with XGBRegressor\n",
    "from xgboost import XGBRegressor\n",
    "xgb = XGBRegressor(random_state = 42, n_estimators = 1500, learning_rate=0.03)"
   ]
  },
  {
   "cell_type": "code",
   "execution_count": 143,
   "id": "stone-alcohol",
   "metadata": {},
   "outputs": [],
   "source": [
    "#Combining preprocessing and model to final Pipeline\n",
    "full_pipeline_test = Pipeline(steps=[('preprocessor', preprocessor), ('model', xgb)])\n",
    "full_pipeline_final = Pipeline(steps=[('preprocessor', preprocessor), ('model', xgb)])"
   ]
  },
  {
   "cell_type": "markdown",
   "id": "recent-fitness",
   "metadata": {},
   "source": [
    "## Testing Pipeline:"
   ]
  },
  {
   "cell_type": "code",
   "execution_count": 144,
   "id": "exciting-monaco",
   "metadata": {},
   "outputs": [
    {
     "name": "stdout",
     "output_type": "stream",
     "text": [
      "MAE: 16001.102966772152\n",
      "MSE: 734671820.4923061\n",
      "R2: 0.890619015530036\n"
     ]
    }
   ],
   "source": [
    "from sklearn.metrics import mean_absolute_error\n",
    "from sklearn.metrics import mean_squared_error\n",
    "from sklearn.metrics import r2_score\n",
    "full_pipeline_test.fit(X_train, y_train)\n",
    "\n",
    "y_pred = full_pipeline_test.predict(X_test)\n",
    "\n",
    "print(\"MAE: \" + str(mean_absolute_error(y_test, y_pred)) + \"\\n\" + \"MSE: \" + str(mean_squared_error(y_test, y_pred)) + \"\\n\" + \"R2: \" + str(r2_score(y_test, y_pred)))"
   ]
  },
  {
   "cell_type": "markdown",
   "id": "christian-equilibrium",
   "metadata": {},
   "source": [
    "Good R2 value."
   ]
  },
  {
   "cell_type": "markdown",
   "id": "charged-grave",
   "metadata": {},
   "source": [
    "## Final Predictions:"
   ]
  },
  {
   "cell_type": "code",
   "execution_count": 145,
   "id": "controversial-pleasure",
   "metadata": {},
   "outputs": [],
   "source": [
    "X_pred = pd.read_csv(\"C:/Users/Nicoo/Documents/GitHub/Kaggle-Notebooks/data/housing_test.csv\", index_col='Id')\n",
    "X_pred = X_pred[selected]\n",
    "full_pipeline_final.fit(housing[selected], y)\n",
    "test_predictions = full_pipeline_final.predict(X_pred)"
   ]
  },
  {
   "cell_type": "code",
   "execution_count": 146,
   "id": "macro-symposium",
   "metadata": {},
   "outputs": [
    {
     "data": {
      "text/html": [
       "<div>\n",
       "<style scoped>\n",
       "    .dataframe tbody tr th:only-of-type {\n",
       "        vertical-align: middle;\n",
       "    }\n",
       "\n",
       "    .dataframe tbody tr th {\n",
       "        vertical-align: top;\n",
       "    }\n",
       "\n",
       "    .dataframe thead th {\n",
       "        text-align: right;\n",
       "    }\n",
       "</style>\n",
       "<table border=\"1\" class=\"dataframe\">\n",
       "  <thead>\n",
       "    <tr style=\"text-align: right;\">\n",
       "      <th></th>\n",
       "      <th>Id</th>\n",
       "      <th>SalePrice</th>\n",
       "    </tr>\n",
       "  </thead>\n",
       "  <tbody>\n",
       "    <tr>\n",
       "      <th>0</th>\n",
       "      <td>1461</td>\n",
       "      <td>124658.000000</td>\n",
       "    </tr>\n",
       "    <tr>\n",
       "      <th>1</th>\n",
       "      <td>1462</td>\n",
       "      <td>160156.140625</td>\n",
       "    </tr>\n",
       "    <tr>\n",
       "      <th>2</th>\n",
       "      <td>1463</td>\n",
       "      <td>184922.687500</td>\n",
       "    </tr>\n",
       "    <tr>\n",
       "      <th>3</th>\n",
       "      <td>1464</td>\n",
       "      <td>192026.468750</td>\n",
       "    </tr>\n",
       "    <tr>\n",
       "      <th>4</th>\n",
       "      <td>1465</td>\n",
       "      <td>187671.937500</td>\n",
       "    </tr>\n",
       "    <tr>\n",
       "      <th>...</th>\n",
       "      <td>...</td>\n",
       "      <td>...</td>\n",
       "    </tr>\n",
       "    <tr>\n",
       "      <th>1454</th>\n",
       "      <td>2915</td>\n",
       "      <td>82611.632812</td>\n",
       "    </tr>\n",
       "    <tr>\n",
       "      <th>1455</th>\n",
       "      <td>2916</td>\n",
       "      <td>83011.257812</td>\n",
       "    </tr>\n",
       "    <tr>\n",
       "      <th>1456</th>\n",
       "      <td>2917</td>\n",
       "      <td>163022.562500</td>\n",
       "    </tr>\n",
       "    <tr>\n",
       "      <th>1457</th>\n",
       "      <td>2918</td>\n",
       "      <td>112538.343750</td>\n",
       "    </tr>\n",
       "    <tr>\n",
       "      <th>1458</th>\n",
       "      <td>2919</td>\n",
       "      <td>212978.921875</td>\n",
       "    </tr>\n",
       "  </tbody>\n",
       "</table>\n",
       "<p>1459 rows × 2 columns</p>\n",
       "</div>"
      ],
      "text/plain": [
       "        Id      SalePrice\n",
       "0     1461  124658.000000\n",
       "1     1462  160156.140625\n",
       "2     1463  184922.687500\n",
       "3     1464  192026.468750\n",
       "4     1465  187671.937500\n",
       "...    ...            ...\n",
       "1454  2915   82611.632812\n",
       "1455  2916   83011.257812\n",
       "1456  2917  163022.562500\n",
       "1457  2918  112538.343750\n",
       "1458  2919  212978.921875\n",
       "\n",
       "[1459 rows x 2 columns]"
      ]
     },
     "execution_count": 146,
     "metadata": {},
     "output_type": "execute_result"
    }
   ],
   "source": [
    "# Save test predictions to file\n",
    "output = pd.DataFrame({'Id': X_pred.index,\n",
    "                       'SalePrice': test_predictions})\n",
    "output.to_csv('simple_pipeline.csv', index=False)\n",
    "output"
   ]
  }
 ],
 "metadata": {
  "kernelspec": {
   "display_name": "Python 3",
   "language": "python",
   "name": "python3"
  },
  "language_info": {
   "codemirror_mode": {
    "name": "ipython",
    "version": 3
   },
   "file_extension": ".py",
   "mimetype": "text/x-python",
   "name": "python",
   "nbconvert_exporter": "python",
   "pygments_lexer": "ipython3",
   "version": "3.8.3"
  }
 },
 "nbformat": 4,
 "nbformat_minor": 5
}
